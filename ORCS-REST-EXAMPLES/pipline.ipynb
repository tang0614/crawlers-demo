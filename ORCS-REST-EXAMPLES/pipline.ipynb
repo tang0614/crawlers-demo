{
 "cells": [
  {
   "cell_type": "code",
   "execution_count": 1,
   "metadata": {},
   "outputs": [],
   "source": [
    "import requests\n",
    "from core import config as cfg\n",
    "import pandas as pd\n",
    "import numpy as np"
   ]
  },
  {
   "cell_type": "code",
   "execution_count": 2,
   "metadata": {},
   "outputs": [],
   "source": [
    "import time\n",
    "from tqdm import tqdm\n",
    "import os"
   ]
  },
  {
   "cell_type": "markdown",
   "metadata": {},
   "source": [
    "# Request ATG9A"
   ]
  },
  {
   "cell_type": "markdown",
   "metadata": {},
   "source": [
    "##  Request data by the name of genes from '/genes/'"
   ]
  },
  {
   "cell_type": "code",
   "execution_count": 112,
   "metadata": {
    "code_folding": []
   },
   "outputs": [
    {
     "name": "stdout",
     "output_type": "stream",
     "text": [
      "Number of Scores Found: 74\n"
     ]
    }
   ],
   "source": [
    "# These parameters can be modified to match any search criteria following\n",
    "# the rules outlined in the Wiki: https://wiki.thebiogrid.org/doku.php/orcs:webservice\n",
    "# In this example, we've chosen to only receive scores for the genes ATG9A\n",
    "# and also to limit to onlyhuman results. Also, we only want scores considered to be significant\n",
    "# hits.\n",
    "request_url = cfg.BASE_URL + \"/genes/\"\n",
    "params = {\n",
    "    \"accesskey\": cfg.ACCESS_KEY,\n",
    "    \"name\": \"ATG9A\",\n",
    "    #\"geneID\": \"79065\",#IDENTIFIER_ID\n",
    "    #\"organismID\": \"9606\",\n",
    "    \"hit\": \"yes\",\n",
    "    \"format\": \"json\"\n",
    "}\n",
    "#Inorder to get data from the server, we need to use http as a protocal between the server and \n",
    "#our client. To make a http request using python, we can choose the Request library.\n",
    "r = requests.get( request_url, params = params )\n",
    "\n",
    "#Extracting the data in jason format\n",
    "scores = r.json( )\n",
    "print( \"Number of Scores Found: \" + str(len(scores)) )\n",
    "\n"
   ]
  },
  {
   "cell_type": "code",
   "execution_count": 113,
   "metadata": {},
   "outputs": [],
   "source": [
    "# Step through all the scores and build a unique set of screens\n",
    "# as well as build a two dimentional structure for storing results\n",
    "# where the identifier ID is the outer level and the screen ID is the\n",
    "# inner level. This will allow us to lookup genes and then screens for that\n",
    "# gene later on.\n",
    "screen_ids = set( )\n",
    "genes = {}\n",
    "count=0\n",
    "\n",
    "for score in scores :\n",
    "    screen_ids.add( score['SCREEN_ID'] )\n",
    "   \n",
    "    if score['IDENTIFIER_ID'] not in genes :\n",
    "        genes[score['IDENTIFIER_ID']] = {}\n",
    "\n",
    "    genes[score['IDENTIFIER_ID']][score['SCREEN_ID']] = score\n"
   ]
  },
  {
   "cell_type": "code",
   "execution_count": 114,
   "metadata": {},
   "outputs": [
    {
     "name": "stdout",
     "output_type": "stream",
     "text": [
      "Number of Unique Screen IDs Found: 74\n",
      "Number of Genes Found: 2\n"
     ]
    }
   ],
   "source": [
    "print( \"Number of Unique Screen IDs Found: \" + str(len(screen_ids)) )\n",
    "print( \"Number of Genes Found: \" + str(len(genes)) )\n"
   ]
  },
  {
   "cell_type": "markdown",
   "metadata": {},
   "source": [
    "## Request data by the screen number from '/screens/'"
   ]
  },
  {
   "cell_type": "code",
   "execution_count": 80,
   "metadata": {},
   "outputs": [
    {
     "name": "stdout",
     "output_type": "stream",
     "text": [
      "Number of Screen Details Retrieved: 74\n"
     ]
    }
   ],
   "source": [
    "# Make a new request for annotation about all the new screens\n",
    "request_url = cfg.BASE_URL + \"/screens/\"\n",
    "\n",
    "# These parameters can be modified to match any search criteria following\n",
    "# the rules outlined in the Wiki: https://wiki.thebiogrid.org/doku.php/orcs:webservice\n",
    "# In this example, we are passing in a list of actual screen IDs we want\n",
    "params = {\n",
    "    \"accesskey\": cfg.ACCESS_KEY,\n",
    "     \"name\": \"ATG9A\",\n",
    "    \"screenID\": \"|\".join( screen_ids ),\n",
    "    \"format\": \"json\"\n",
    "}\n",
    "\n",
    "r = requests.get( request_url, params = params )\n",
    "screens = r.json( )\n",
    "print( \"Number of Screen Details Retrieved: \" + str(len(screens)) )\n"
   ]
  },
  {
   "cell_type": "code",
   "execution_count": 81,
   "metadata": {},
   "outputs": [],
   "source": [
    "# Step through each screen and build a nice index of screens by screen_id\n",
    "screen_lookup = {}\n",
    "for screen in screens :\n",
    "    screen_lookup[screen['SCREEN_ID']] = screen\n"
   ]
  },
  {
   "cell_type": "markdown",
   "metadata": {},
   "source": [
    "### Print out a score and its associated screen annotation for ATG9A and screen 590"
   ]
  },
  {
   "cell_type": "code",
   "execution_count": 82,
   "metadata": {
    "code_folding": []
   },
   "outputs": [
    {
     "name": "stdout",
     "output_type": "stream",
     "text": [
      "Print out a score and its associated screen annotation for gene 79065 and screen 590\n",
      "{'SCREEN_ID': '590', 'IDENTIFIER_ID': '79065', 'IDENTIFIER_TYPE': 'gene', 'OFFICIAL_SYMBOL': 'ATG9A', 'ALIASES': 'APG9L1|MGD3208|mATG9|FLJ22169', 'ORGANISM_ID': '9606', 'ORGANISM_OFFICIAL': 'Homo sapiens', 'SCORE.1': '4.484726063', 'SCORE.2': '2.93e-60', 'SCORE.3': '-', 'SCORE.4': '-', 'SCORE.5': '-', 'HIT': 'YES', 'SOURCE': 'BioGRID ORCS'}\n"
     ]
    }
   ],
   "source": [
    "# Print out a score and its associated screen annotation\n",
    "# for gene 79065 and screen 590'\n",
    "print('Print out a score and its associated screen annotation for gene 79065 and screen 590')\n",
    "print( genes['79065']['590'] )\n",
    "\n"
   ]
  },
  {
   "cell_type": "code",
   "execution_count": 83,
   "metadata": {
    "scrolled": true
   },
   "outputs": [
    {
     "name": "stdout",
     "output_type": "stream",
     "text": [
      "{'SCREEN_ID': '590', 'SOURCE_ID': '28877469', 'SOURCE_TYPE': 'pubmed', 'AUTHOR': 'Goodwin JM (2017)', 'SCREEN_NAME': '6-PMID28877469', 'SCORES_SIZE': '1120', 'FULL_SIZE': '1120', 'FULL_SIZE_AVAILABLE': 'Yes', 'NUMBER_OF_HITS': '71', 'ANALYSIS': 'DESeq2', 'SIGNIFICANCE_INDICATOR': 'Score Significance', 'SIGNIFICANCE_CRITERIA': 'Score.1 (Log2) > 1', 'THROUGHPUT': 'High Throughput', 'SCREEN_TYPE': 'Phenotype Screen', 'SCREEN_FORMAT': 'Pool', 'EXPERIMENTAL_SETUP': 'Timecourse', 'DURATION': '7 Days', 'CONDITION_NAME': '-', 'CONDITION_DOSAGE': '-', 'MOI': '-', 'LIBRARY': 'CRISPRn Minipool (Goodwin, 2017)', 'LIBRARY_TYPE': 'CRISPRn', 'METHODOLOGY': 'Knockout', 'ENZYME': 'CAS9', 'CELL_LINE': 'H4 neuroglioma cell', 'CELL_TYPE': 'glioma cell line', 'PHENOTYPE': 'protein/peptide accumulation', 'SCORE_COL_COUNT': '2', 'SCORE.1_TYPE': 'Log2', 'SCORE.2_TYPE': 'p-Value', 'SCORE.3_TYPE': '-', 'SCORE.4_TYPE': '-', 'SCORE.5_TYPE': '-', 'ORGANISM_ID': '9606', 'ORGANISM_OFFICIAL': 'Homo sapiens', 'NOTES': 'targeted mini-pool screen for genes whose depletion results in increased TAX1BP1 levels as determined by GFP-tag and FACS sorting', 'SOURCE': 'BioGRID ORCS'}\n"
     ]
    }
   ],
   "source": [
    "print(screen_lookup['590'] )"
   ]
  },
  {
   "cell_type": "markdown",
   "metadata": {},
   "source": [
    "### Information from the dataframe"
   ]
  },
  {
   "cell_type": "code",
   "execution_count": 84,
   "metadata": {},
   "outputs": [],
   "source": [
    "# Convert from dic to pandas table\n",
    "screen_lookup_df = pd.DataFrame.from_dict( screen_lookup, orient='index' )\n",
    "genes_df = pd.DataFrame.from_dict({(i,j): genes[i][j] \n",
    "                           for i in genes.keys() \n",
    "                           for j in genes[i].keys()},\n",
    "                       orient='index')"
   ]
  },
  {
   "cell_type": "code",
   "execution_count": 85,
   "metadata": {},
   "outputs": [
    {
     "data": {
      "text/plain": [
       "Index(['SCREEN_ID', 'IDENTIFIER_ID', 'IDENTIFIER_TYPE', 'OFFICIAL_SYMBOL',\n",
       "       'ALIASES', 'ORGANISM_ID', 'ORGANISM_OFFICIAL', 'SCORE.1', 'SCORE.2',\n",
       "       'SCORE.3', 'SCORE.4', 'SCORE.5', 'HIT', 'SOURCE'],\n",
       "      dtype='object')"
      ]
     },
     "execution_count": 85,
     "metadata": {},
     "output_type": "execute_result"
    }
   ],
   "source": [
    "genes_df.columns"
   ]
  },
  {
   "cell_type": "code",
   "execution_count": 86,
   "metadata": {
    "scrolled": true
   },
   "outputs": [
    {
     "data": {
      "text/plain": [
       "Index(['SCREEN_ID', 'SOURCE_ID', 'SOURCE_TYPE', 'AUTHOR', 'SCREEN_NAME',\n",
       "       'SCORES_SIZE', 'FULL_SIZE', 'FULL_SIZE_AVAILABLE', 'NUMBER_OF_HITS',\n",
       "       'ANALYSIS', 'SIGNIFICANCE_INDICATOR', 'SIGNIFICANCE_CRITERIA',\n",
       "       'THROUGHPUT', 'SCREEN_TYPE', 'SCREEN_FORMAT', 'EXPERIMENTAL_SETUP',\n",
       "       'DURATION', 'CONDITION_NAME', 'CONDITION_DOSAGE', 'MOI', 'LIBRARY',\n",
       "       'LIBRARY_TYPE', 'METHODOLOGY', 'ENZYME', 'CELL_LINE', 'CELL_TYPE',\n",
       "       'PHENOTYPE', 'SCORE_COL_COUNT', 'SCORE.1_TYPE', 'SCORE.2_TYPE',\n",
       "       'SCORE.3_TYPE', 'SCORE.4_TYPE', 'SCORE.5_TYPE', 'ORGANISM_ID',\n",
       "       'ORGANISM_OFFICIAL', 'NOTES', 'SOURCE'],\n",
       "      dtype='object')"
      ]
     },
     "execution_count": 86,
     "metadata": {},
     "output_type": "execute_result"
    }
   ],
   "source": [
    "screen_lookup_df.columns"
   ]
  },
  {
   "cell_type": "code",
   "execution_count": 87,
   "metadata": {},
   "outputs": [
    {
     "data": {
      "text/html": [
       "<div>\n",
       "<style scoped>\n",
       "    .dataframe tbody tr th:only-of-type {\n",
       "        vertical-align: middle;\n",
       "    }\n",
       "\n",
       "    .dataframe tbody tr th {\n",
       "        vertical-align: top;\n",
       "    }\n",
       "\n",
       "    .dataframe thead th {\n",
       "        text-align: right;\n",
       "    }\n",
       "</style>\n",
       "<table border=\"1\" class=\"dataframe\">\n",
       "  <thead>\n",
       "    <tr style=\"text-align: right;\">\n",
       "      <th></th>\n",
       "      <th></th>\n",
       "      <th>IDENTIFIER_ID</th>\n",
       "      <th>SCREEN_ID</th>\n",
       "      <th>ALIASES</th>\n",
       "      <th>OFFICIAL_SYMBOL</th>\n",
       "      <th>HIT</th>\n",
       "    </tr>\n",
       "  </thead>\n",
       "  <tbody>\n",
       "    <tr>\n",
       "      <th rowspan=\"5\" valign=\"top\">79065</th>\n",
       "      <th>27</th>\n",
       "      <td>79065</td>\n",
       "      <td>27</td>\n",
       "      <td>APG9L1|MGD3208|mATG9|FLJ22169</td>\n",
       "      <td>ATG9A</td>\n",
       "      <td>YES</td>\n",
       "    </tr>\n",
       "    <tr>\n",
       "      <th>29</th>\n",
       "      <td>79065</td>\n",
       "      <td>29</td>\n",
       "      <td>APG9L1|MGD3208|mATG9|FLJ22169</td>\n",
       "      <td>ATG9A</td>\n",
       "      <td>YES</td>\n",
       "    </tr>\n",
       "    <tr>\n",
       "      <th>141</th>\n",
       "      <td>79065</td>\n",
       "      <td>141</td>\n",
       "      <td>APG9L1|MGD3208|mATG9|FLJ22169</td>\n",
       "      <td>ATG9A</td>\n",
       "      <td>YES</td>\n",
       "    </tr>\n",
       "    <tr>\n",
       "      <th>159</th>\n",
       "      <td>79065</td>\n",
       "      <td>159</td>\n",
       "      <td>APG9L1|MGD3208|mATG9|FLJ22169</td>\n",
       "      <td>ATG9A</td>\n",
       "      <td>YES</td>\n",
       "    </tr>\n",
       "    <tr>\n",
       "      <th>149</th>\n",
       "      <td>79065</td>\n",
       "      <td>149</td>\n",
       "      <td>APG9L1|MGD3208|mATG9|FLJ22169</td>\n",
       "      <td>ATG9A</td>\n",
       "      <td>YES</td>\n",
       "    </tr>\n",
       "  </tbody>\n",
       "</table>\n",
       "</div>"
      ],
      "text/plain": [
       "          IDENTIFIER_ID SCREEN_ID                        ALIASES  \\\n",
       "79065 27          79065        27  APG9L1|MGD3208|mATG9|FLJ22169   \n",
       "      29          79065        29  APG9L1|MGD3208|mATG9|FLJ22169   \n",
       "      141         79065       141  APG9L1|MGD3208|mATG9|FLJ22169   \n",
       "      159         79065       159  APG9L1|MGD3208|mATG9|FLJ22169   \n",
       "      149         79065       149  APG9L1|MGD3208|mATG9|FLJ22169   \n",
       "\n",
       "          OFFICIAL_SYMBOL  HIT  \n",
       "79065 27            ATG9A  YES  \n",
       "      29            ATG9A  YES  \n",
       "      141           ATG9A  YES  \n",
       "      159           ATG9A  YES  \n",
       "      149           ATG9A  YES  "
      ]
     },
     "execution_count": 87,
     "metadata": {},
     "output_type": "execute_result"
    }
   ],
   "source": [
    "selected_genes_df = genes_df[['IDENTIFIER_ID','SCREEN_ID','ALIASES','OFFICIAL_SYMBOL','HIT']]\n",
    "selected_genes_df.head()"
   ]
  },
  {
   "cell_type": "code",
   "execution_count": 88,
   "metadata": {},
   "outputs": [
    {
     "data": {
      "text/html": [
       "<div>\n",
       "<style scoped>\n",
       "    .dataframe tbody tr th:only-of-type {\n",
       "        vertical-align: middle;\n",
       "    }\n",
       "\n",
       "    .dataframe tbody tr th {\n",
       "        vertical-align: top;\n",
       "    }\n",
       "\n",
       "    .dataframe thead th {\n",
       "        text-align: right;\n",
       "    }\n",
       "</style>\n",
       "<table border=\"1\" class=\"dataframe\">\n",
       "  <thead>\n",
       "    <tr style=\"text-align: right;\">\n",
       "      <th></th>\n",
       "      <th>SCREEN_ID</th>\n",
       "      <th>SIGNIFICANCE_CRITERIA</th>\n",
       "      <th>CELL_LINE</th>\n",
       "      <th>ENZYME</th>\n",
       "      <th>PHENOTYPE</th>\n",
       "      <th>NUMBER_OF_HITS</th>\n",
       "      <th>ANALYSIS</th>\n",
       "      <th>NOTES</th>\n",
       "    </tr>\n",
       "  </thead>\n",
       "  <tbody>\n",
       "    <tr>\n",
       "      <th>24</th>\n",
       "      <td>24</td>\n",
       "      <td>-</td>\n",
       "      <td>K-562 cell</td>\n",
       "      <td>CAS9</td>\n",
       "      <td>toxin resistance</td>\n",
       "      <td>895</td>\n",
       "      <td>CasTLE</td>\n",
       "      <td>authors used a cut-off of FDR&lt;= 10% to determi...</td>\n",
       "    </tr>\n",
       "    <tr>\n",
       "      <th>27</th>\n",
       "      <td>27</td>\n",
       "      <td>Score.1 (Bayes Factor) &gt; 3.2</td>\n",
       "      <td>143B</td>\n",
       "      <td>CAS9</td>\n",
       "      <td>viability</td>\n",
       "      <td>2197</td>\n",
       "      <td>BAGEL</td>\n",
       "      <td>Genes with a Bayes Factor (BF) above the thres...</td>\n",
       "    </tr>\n",
       "    <tr>\n",
       "      <th>29</th>\n",
       "      <td>29</td>\n",
       "      <td>Score.1 (Bayes Factor) &gt; 3.57</td>\n",
       "      <td>DLD-1 cell</td>\n",
       "      <td>CAS9</td>\n",
       "      <td>viability</td>\n",
       "      <td>1893</td>\n",
       "      <td>BAGEL</td>\n",
       "      <td>Genes with a Bayes Factor (BF) above the thres...</td>\n",
       "    </tr>\n",
       "    <tr>\n",
       "      <th>81</th>\n",
       "      <td>81</td>\n",
       "      <td>Score.1 (Log2) &lt; -1</td>\n",
       "      <td>BA/F3 cell</td>\n",
       "      <td>CAS9</td>\n",
       "      <td>viability</td>\n",
       "      <td>3426</td>\n",
       "      <td>Log2 Fold Change (L2FC)</td>\n",
       "      <td>NaN</td>\n",
       "    </tr>\n",
       "    <tr>\n",
       "      <th>82</th>\n",
       "      <td>82</td>\n",
       "      <td>Score.1 (Log2) &lt; -1</td>\n",
       "      <td>BA/F3 cell</td>\n",
       "      <td>CAS9</td>\n",
       "      <td>viability</td>\n",
       "      <td>4759</td>\n",
       "      <td>Log2 Fold Change (L2FC)</td>\n",
       "      <td>NaN</td>\n",
       "    </tr>\n",
       "  </tbody>\n",
       "</table>\n",
       "</div>"
      ],
      "text/plain": [
       "   SCREEN_ID          SIGNIFICANCE_CRITERIA   CELL_LINE ENZYME  \\\n",
       "24        24                              -  K-562 cell   CAS9   \n",
       "27        27   Score.1 (Bayes Factor) > 3.2        143B   CAS9   \n",
       "29        29  Score.1 (Bayes Factor) > 3.57  DLD-1 cell   CAS9   \n",
       "81        81            Score.1 (Log2) < -1  BA/F3 cell   CAS9   \n",
       "82        82            Score.1 (Log2) < -1  BA/F3 cell   CAS9   \n",
       "\n",
       "           PHENOTYPE NUMBER_OF_HITS                 ANALYSIS  \\\n",
       "24  toxin resistance            895                   CasTLE   \n",
       "27         viability           2197                    BAGEL   \n",
       "29         viability           1893                    BAGEL   \n",
       "81         viability           3426  Log2 Fold Change (L2FC)   \n",
       "82         viability           4759  Log2 Fold Change (L2FC)   \n",
       "\n",
       "                                                NOTES  \n",
       "24  authors used a cut-off of FDR<= 10% to determi...  \n",
       "27  Genes with a Bayes Factor (BF) above the thres...  \n",
       "29  Genes with a Bayes Factor (BF) above the thres...  \n",
       "81                                                NaN  \n",
       "82                                                NaN  "
      ]
     },
     "execution_count": 88,
     "metadata": {},
     "output_type": "execute_result"
    }
   ],
   "source": [
    "screen_lookup_df_selected = screen_lookup_df[['SCREEN_ID','SIGNIFICANCE_CRITERIA','CELL_LINE','ENZYME','PHENOTYPE','NUMBER_OF_HITS','ANALYSIS','NOTES']]\n",
    "screen_lookup_df_selected.head()"
   ]
  },
  {
   "cell_type": "code",
   "execution_count": 89,
   "metadata": {
    "scrolled": true
   },
   "outputs": [
    {
     "data": {
      "text/html": [
       "<div>\n",
       "<style scoped>\n",
       "    .dataframe tbody tr th:only-of-type {\n",
       "        vertical-align: middle;\n",
       "    }\n",
       "\n",
       "    .dataframe tbody tr th {\n",
       "        vertical-align: top;\n",
       "    }\n",
       "\n",
       "    .dataframe thead th {\n",
       "        text-align: right;\n",
       "    }\n",
       "</style>\n",
       "<table border=\"1\" class=\"dataframe\">\n",
       "  <thead>\n",
       "    <tr style=\"text-align: right;\">\n",
       "      <th></th>\n",
       "      <th>SCREEN_ID</th>\n",
       "      <th>SIGNIFICANCE_CRITERIA</th>\n",
       "      <th>CELL_LINE</th>\n",
       "      <th>ENZYME</th>\n",
       "      <th>PHENOTYPE</th>\n",
       "      <th>NUMBER_OF_HITS</th>\n",
       "      <th>ANALYSIS</th>\n",
       "      <th>NOTES</th>\n",
       "    </tr>\n",
       "  </thead>\n",
       "  <tbody>\n",
       "    <tr>\n",
       "      <th>590</th>\n",
       "      <td>590</td>\n",
       "      <td>Score.1 (Log2) &gt; 1</td>\n",
       "      <td>H4 neuroglioma cell</td>\n",
       "      <td>CAS9</td>\n",
       "      <td>protein/peptide accumulation</td>\n",
       "      <td>71</td>\n",
       "      <td>DESeq2</td>\n",
       "      <td>targeted mini-pool screen for genes whose depl...</td>\n",
       "    </tr>\n",
       "  </tbody>\n",
       "</table>\n",
       "</div>"
      ],
      "text/plain": [
       "    SCREEN_ID SIGNIFICANCE_CRITERIA            CELL_LINE ENZYME  \\\n",
       "590       590    Score.1 (Log2) > 1  H4 neuroglioma cell   CAS9   \n",
       "\n",
       "                        PHENOTYPE NUMBER_OF_HITS ANALYSIS  \\\n",
       "590  protein/peptide accumulation             71   DESeq2   \n",
       "\n",
       "                                                 NOTES  \n",
       "590  targeted mini-pool screen for genes whose depl...  "
      ]
     },
     "execution_count": 89,
     "metadata": {},
     "output_type": "execute_result"
    }
   ],
   "source": [
    "screen_lookup_df_selected[screen_lookup_df_selected['SCREEN_ID'] == '590']"
   ]
  },
  {
   "cell_type": "code",
   "execution_count": 92,
   "metadata": {},
   "outputs": [],
   "source": [
    "summary = pd.merge(selected_genes_df,screen_lookup_df_selected,on='SCREEN_ID',how='left')"
   ]
  },
  {
   "cell_type": "code",
   "execution_count": 94,
   "metadata": {},
   "outputs": [
    {
     "data": {
      "text/html": [
       "<div>\n",
       "<style scoped>\n",
       "    .dataframe tbody tr th:only-of-type {\n",
       "        vertical-align: middle;\n",
       "    }\n",
       "\n",
       "    .dataframe tbody tr th {\n",
       "        vertical-align: top;\n",
       "    }\n",
       "\n",
       "    .dataframe thead th {\n",
       "        text-align: right;\n",
       "    }\n",
       "</style>\n",
       "<table border=\"1\" class=\"dataframe\">\n",
       "  <thead>\n",
       "    <tr style=\"text-align: right;\">\n",
       "      <th></th>\n",
       "      <th>IDENTIFIER_ID</th>\n",
       "      <th>SCREEN_ID</th>\n",
       "      <th>ALIASES</th>\n",
       "      <th>OFFICIAL_SYMBOL</th>\n",
       "      <th>HIT</th>\n",
       "      <th>SIGNIFICANCE_CRITERIA</th>\n",
       "      <th>CELL_LINE</th>\n",
       "      <th>ENZYME</th>\n",
       "      <th>PHENOTYPE</th>\n",
       "      <th>NUMBER_OF_HITS</th>\n",
       "      <th>ANALYSIS</th>\n",
       "      <th>NOTES</th>\n",
       "    </tr>\n",
       "  </thead>\n",
       "  <tbody>\n",
       "    <tr>\n",
       "      <th>64</th>\n",
       "      <td>79065</td>\n",
       "      <td>590</td>\n",
       "      <td>APG9L1|MGD3208|mATG9|FLJ22169</td>\n",
       "      <td>ATG9A</td>\n",
       "      <td>YES</td>\n",
       "      <td>Score.1 (Log2) &gt; 1</td>\n",
       "      <td>H4 neuroglioma cell</td>\n",
       "      <td>CAS9</td>\n",
       "      <td>protein/peptide accumulation</td>\n",
       "      <td>71</td>\n",
       "      <td>DESeq2</td>\n",
       "      <td>targeted mini-pool screen for genes whose depl...</td>\n",
       "    </tr>\n",
       "  </tbody>\n",
       "</table>\n",
       "</div>"
      ],
      "text/plain": [
       "   IDENTIFIER_ID SCREEN_ID                        ALIASES OFFICIAL_SYMBOL  \\\n",
       "64         79065       590  APG9L1|MGD3208|mATG9|FLJ22169           ATG9A   \n",
       "\n",
       "    HIT SIGNIFICANCE_CRITERIA            CELL_LINE ENZYME  \\\n",
       "64  YES    Score.1 (Log2) > 1  H4 neuroglioma cell   CAS9   \n",
       "\n",
       "                       PHENOTYPE NUMBER_OF_HITS ANALYSIS  \\\n",
       "64  protein/peptide accumulation             71   DESeq2   \n",
       "\n",
       "                                                NOTES  \n",
       "64  targeted mini-pool screen for genes whose depl...  "
      ]
     },
     "execution_count": 94,
     "metadata": {},
     "output_type": "execute_result"
    }
   ],
   "source": [
    "summary[summary['SCREEN_ID']=='590']"
   ]
  },
  {
   "cell_type": "markdown",
   "metadata": {},
   "source": [
    "# Gathering Data from Biogrid"
   ]
  },
  {
   "cell_type": "markdown",
   "metadata": {},
   "source": [
    "## Request by screen_id from /screens(getting notes info)"
   ]
  },
  {
   "cell_type": "code",
   "execution_count": 55,
   "metadata": {},
   "outputs": [
    {
     "name": "stdout",
     "output_type": "stream",
     "text": [
      "Number of Screens Found: 561\n"
     ]
    }
   ],
   "source": [
    "request_url = cfg.BASE_URL + \"/screens/\"\n",
    "screenID_list=[str(x) for x in range(1,1020)]\n",
    "\n",
    "params = {\n",
    "    \"accesskey\": cfg.ACCESS_KEY,\n",
    "    \"screenID\": \"|\".join(screenID_list),\n",
    "    \"format\": \"json\"\n",
    "}\n",
    "\n",
    "r = requests.get( request_url, params = params )\n",
    "screens_1 = r.json( )\n",
    "print( \"Number of Screens Found: \" + str(len(screens)) )\n",
    "\n",
    "with open('/Users/xinyutang/Desktop/biogridData/screens.json', 'w') as f:\n",
    "    json.dump(screens, f)\n"
   ]
  },
  {
   "cell_type": "code",
   "execution_count": 99,
   "metadata": {},
   "outputs": [],
   "source": [
    "screens =pd.read_json ('/Users/xinyutang/Desktop/biogridData/DataPreprocessing/screens.json')"
   ]
  },
  {
   "cell_type": "code",
   "execution_count": 12,
   "metadata": {},
   "outputs": [],
   "source": [
    "screens_after650 = np.load('/Users/xinyutang/Desktop/biogridData/DataPreprocessing/screens652.npy',allow_pickle=True)"
   ]
  },
  {
   "cell_type": "markdown",
   "metadata": {},
   "source": [
    "## Request single screen from /screen"
   ]
  },
  {
   "cell_type": "code",
   "execution_count": 21,
   "metadata": {},
   "outputs": [],
   "source": [
    "def get_screen(screenID):\n",
    "    \n",
    "    screen_id = screenID\n",
    "    request_url = cfg.BASE_URL + \"/screen/\" + str(screen_id)\n",
    "\n",
    "    params = {\n",
    "        \"accesskey\": cfg.ACCESS_KEY,\n",
    "        \"format\": \"json\"\n",
    "    }\n",
    "\n",
    "    r = requests.get( request_url, params = params )\n",
    "    screen = r.json( )\n",
    "    data = {}\n",
    "    \n",
    "    for row in screen:\n",
    "        data[row['IDENTIFIER_ID']] = row\n",
    "\n",
    "\n",
    "    dataset = pd.DataFrame.from_dict( data, orient='index' )\n",
    "    \n",
    "    return dataset"
   ]
  },
  {
   "cell_type": "code",
   "execution_count": 5,
   "metadata": {},
   "outputs": [
    {
     "name": "stderr",
     "output_type": "stream",
     "text": [
      "100%|██████████| 1199/1199 [1:18:22<00:00,  3.92s/it]\n"
     ]
    }
   ],
   "source": [
    "screenID_list=[int(x) for x in range(1,1200)]\n",
    "df_list=[]\n",
    "\n",
    "for i in tqdm(screenID_list):\n",
    "    time.sleep(3)\n",
    "    try:\n",
    "        df = get_screen(i)\n",
    "        df_list.append(df)\n",
    "        \n",
    "    except:\n",
    "            pass\n",
    "        \n",
    "screens = pd.concat(df_list,axis=0)\n",
    "screens = screens.reset_index(drop=True)\n",
    "screens.to_pickle(('/Users/xinyutang/Desktop/biogridData/DataPreprocessing/single_screen.pkl'))"
   ]
  },
  {
   "cell_type": "code",
   "execution_count": 101,
   "metadata": {},
   "outputs": [],
   "source": [
    "screens=pd.read_pickle(('/Users/xinyutang/Desktop/biogridData/DataPreprocessing/single_screen.pkl'))"
   ]
  },
  {
   "cell_type": "code",
   "execution_count": 16,
   "metadata": {},
   "outputs": [],
   "source": [
    "single_screen=np.load('/Users/xinyutang/Desktop/biogridData/DataPreprocessing/single_screen650.npy',allow_pickle=True)"
   ]
  },
  {
   "cell_type": "code",
   "execution_count": 27,
   "metadata": {},
   "outputs": [
    {
     "ename": "IndexError",
     "evalue": "too many indices for array",
     "output_type": "error",
     "traceback": [
      "\u001b[0;31m---------------------------------------------------------------------------\u001b[0m",
      "\u001b[0;31mIndexError\u001b[0m                                Traceback (most recent call last)",
      "\u001b[0;32m<ipython-input-27-622ee30b1b36>\u001b[0m in \u001b[0;36m<module>\u001b[0;34m\u001b[0m\n\u001b[0;32m----> 1\u001b[0;31m \u001b[0msingle_screen\u001b[0m\u001b[0;34m[\u001b[0m\u001b[0;36m0\u001b[0m\u001b[0;34m:\u001b[0m\u001b[0;36m1\u001b[0m\u001b[0;34m]\u001b[0m\u001b[0;34m\u001b[0m\u001b[0;34m\u001b[0m\u001b[0m\n\u001b[0m",
      "\u001b[0;31mIndexError\u001b[0m: too many indices for array"
     ]
    }
   ],
   "source": [
    "single_screen[0:1]"
   ]
  },
  {
   "cell_type": "markdown",
   "metadata": {},
   "source": [
    "### Web crawling on screen page "
   ]
  },
  {
   "cell_type": "markdown",
   "metadata": {},
   "source": [
    "## Request by gene_id from /genes"
   ]
  },
  {
   "cell_type": "code",
   "execution_count": 4,
   "metadata": {},
   "outputs": [],
   "source": [
    "def extractGenes(lower_bound,upper_bound):\n",
    "    geneID_list=[str(x) for x in range(lower_bound,upper_bound)]\n",
    "\n",
    "    request_url = cfg.BASE_URL + \"/genes/\"\n",
    "    params = {\n",
    "        \"accesskey\": cfg.ACCESS_KEY,\n",
    "    #     \"name\": \"ATG9A\",\n",
    "        \"geneID\": \"|\".join(geneID_list),\n",
    "        #\"organismID\": \"9606\",\n",
    "    #     \"hit\": \"yes\",\n",
    "        \"format\": \"json\"\n",
    "    }\n",
    "    r = requests.get( request_url, params = params )\n",
    "\n",
    "    genes = r.json( )\n",
    "    print( \"Number of Scores Found: \" + str(len(scores)) )\n",
    "\n",
    "    with open(f'/Users/xinyutang/Desktop/biogridData/genes{parameter}.json', 'w') as f:\n",
    "        json.dump(genes, f)\n"
   ]
  },
  {
   "cell_type": "markdown",
   "metadata": {},
   "source": [
    "## Load genes"
   ]
  },
  {
   "cell_type": "code",
   "execution_count": 7,
   "metadata": {},
   "outputs": [
    {
     "name": "stderr",
     "output_type": "stream",
     "text": [
      "  0%|          | 0/790 [00:00<?, ?it/s]<ipython-input-7-af999699b25a>:17: SettingWithCopyWarning: \n",
      "A value is trying to be set on a copy of a slice from a DataFrame.\n",
      "Try using .loc[row_indexer,col_indexer] = value instead\n",
      "\n",
      "See the caveats in the documentation: http://pandas.pydata.org/pandas-docs/stable/user_guide/indexing.html#returning-a-view-versus-a-copy\n",
      "  rows['SCORE.1.RANK'] = rows['SCORE.1'].rank(ascending=0)\n",
      "100%|██████████| 790/790 [45:23<00:00,  3.45s/it]\n"
     ]
    }
   ],
   "source": [
    "directory = '/Users/xinyutang/Desktop/biogridData'\n",
    "\n",
    "genes_list=[]\n",
    "for file in tqdm(os.listdir(directory)):\n",
    "    time.sleep(3)\n",
    "    filename = os.fsdecode(file)\n",
    "    if filename.startswith(\"gene\"): \n",
    "        path = os.path.join(directory, filename)\n",
    "        genes =pd.read_json (path)\n",
    "        \n",
    "        try:\n",
    "            df = genes[['SCREEN_ID','IDENTIFIER_ID','OFFICIAL_SYMBOL','SCORE.1','ALIASES','HIT']]\n",
    "            df = df.sort_values('SCREEN_ID',ascending='True')\n",
    "            row_list=[]\n",
    "\n",
    "            genes_list.append(df)\n",
    "        \n",
    "        except Exception:\n",
    "            pass\n",
    "    else:\n",
    "        continue"
   ]
  },
  {
   "cell_type": "code",
   "execution_count": 8,
   "metadata": {},
   "outputs": [],
   "source": [
    "allgenes = pd.concat(genes_list,axis=0)\n",
    "allgenes = allgenes.sort_values('SCREEN_ID').reset_index(drop=True)\n",
    "allgenes.to_pickle('/Users/xinyutang/Desktop/biogridData/DataPreprocessing/allGenes.pkl')"
   ]
  },
  {
   "cell_type": "code",
   "execution_count": 45,
   "metadata": {},
   "outputs": [],
   "source": [
    "allgenes1 = pd.read_pickle('/Users/xinyutang/Desktop/biogridData/DataPreprocessing/allGenes_GENES0.pkl')\n",
    "allgenes2 = pd.read_pickle('/Users/xinyutang/Desktop/biogridData/DataPreprocessing/allGenes_GENES400000.pkl')"
   ]
  },
  {
   "cell_type": "code",
   "execution_count": 62,
   "metadata": {},
   "outputs": [],
   "source": [
    "genes_ID_1 = allgenes1[['IDENTIFIER_ID','OFFICIAL_SYMBOL']]\n",
    "genes_ID_1 = genes_ID_1.drop_duplicates('IDENTIFIER_ID',keep='first').sort_values('IDENTIFIER_ID')\n",
    "genes_ID_2 = allgenes2[['IDENTIFIER_ID','OFFICIAL_SYMBOL']]\n",
    "genes_ID_2 = genes_ID_2.drop_duplicates('IDENTIFIER_ID',keep='first').sort_values('IDENTIFIER_ID')\n",
    "allGenesID = pd.concat([genes_ID_1,genes_ID_2],axis=0).sort_values('IDENTIFIER_ID')\n",
    "allGenesID.to_pickle('/Users/xinyutang/Desktop/biogridData/GENEID/allGenesID.pkl')"
   ]
  },
  {
   "cell_type": "code",
   "execution_count": 83,
   "metadata": {
    "scrolled": true
   },
   "outputs": [
    {
     "data": {
      "text/html": [
       "<div>\n",
       "<style scoped>\n",
       "    .dataframe tbody tr th:only-of-type {\n",
       "        vertical-align: middle;\n",
       "    }\n",
       "\n",
       "    .dataframe tbody tr th {\n",
       "        vertical-align: top;\n",
       "    }\n",
       "\n",
       "    .dataframe thead th {\n",
       "        text-align: right;\n",
       "    }\n",
       "</style>\n",
       "<table border=\"1\" class=\"dataframe\">\n",
       "  <thead>\n",
       "    <tr style=\"text-align: right;\">\n",
       "      <th></th>\n",
       "      <th>IDENTIFIER_ID</th>\n",
       "      <th>OFFICIAL_SYMBOL</th>\n",
       "    </tr>\n",
       "  </thead>\n",
       "  <tbody>\n",
       "    <tr>\n",
       "      <th>14806</th>\n",
       "      <td>79065</td>\n",
       "      <td>ATG9A</td>\n",
       "    </tr>\n",
       "  </tbody>\n",
       "</table>\n",
       "</div>"
      ],
      "text/plain": [
       "       IDENTIFIER_ID OFFICIAL_SYMBOL\n",
       "14806          79065           ATG9A"
      ]
     },
     "execution_count": 83,
     "metadata": {},
     "output_type": "execute_result"
    }
   ],
   "source": [
    "allGenesID[allGenesID['IDENTIFIER_ID']==79065]"
   ]
  },
  {
   "cell_type": "code",
   "execution_count": 96,
   "metadata": {},
   "outputs": [
    {
     "data": {
      "text/html": [
       "<div>\n",
       "<style scoped>\n",
       "    .dataframe tbody tr th:only-of-type {\n",
       "        vertical-align: middle;\n",
       "    }\n",
       "\n",
       "    .dataframe tbody tr th {\n",
       "        vertical-align: top;\n",
       "    }\n",
       "\n",
       "    .dataframe thead th {\n",
       "        text-align: right;\n",
       "    }\n",
       "</style>\n",
       "<table border=\"1\" class=\"dataframe\">\n",
       "  <thead>\n",
       "    <tr style=\"text-align: right;\">\n",
       "      <th></th>\n",
       "      <th>SCREEN_ID</th>\n",
       "      <th>IDENTIFIER_ID</th>\n",
       "      <th>IDENTIFIER_TYPE</th>\n",
       "      <th>OFFICIAL_SYMBOL</th>\n",
       "      <th>ALIASES</th>\n",
       "      <th>ORGANISM_ID</th>\n",
       "      <th>ORGANISM_OFFICIAL</th>\n",
       "      <th>SCORE.1</th>\n",
       "      <th>SCORE.2</th>\n",
       "      <th>SCORE.3</th>\n",
       "      <th>SCORE.4</th>\n",
       "      <th>SCORE.5</th>\n",
       "      <th>HIT</th>\n",
       "      <th>SOURCE</th>\n",
       "    </tr>\n",
       "  </thead>\n",
       "  <tbody>\n",
       "    <tr>\n",
       "      <th>0</th>\n",
       "      <td>1</td>\n",
       "      <td>29974</td>\n",
       "      <td>gene</td>\n",
       "      <td>A1CF</td>\n",
       "      <td>ACF|ACF64|ACF65|APOBEC1CF|ASP</td>\n",
       "      <td>9606</td>\n",
       "      <td>Homo sapiens</td>\n",
       "      <td>0</td>\n",
       "      <td>-</td>\n",
       "      <td>-</td>\n",
       "      <td>-</td>\n",
       "      <td>-</td>\n",
       "      <td>NO</td>\n",
       "      <td>BioGRID ORCS</td>\n",
       "    </tr>\n",
       "    <tr>\n",
       "      <th>1</th>\n",
       "      <td>1</td>\n",
       "      <td>8086</td>\n",
       "      <td>gene</td>\n",
       "      <td>AAAS</td>\n",
       "      <td>AAA|AAASb|ADRACALA|ADRACALIN|ALADIN|GL003</td>\n",
       "      <td>9606</td>\n",
       "      <td>Homo sapiens</td>\n",
       "      <td>0</td>\n",
       "      <td>-</td>\n",
       "      <td>-</td>\n",
       "      <td>-</td>\n",
       "      <td>-</td>\n",
       "      <td>NO</td>\n",
       "      <td>BioGRID ORCS</td>\n",
       "    </tr>\n",
       "    <tr>\n",
       "      <th>2</th>\n",
       "      <td>1</td>\n",
       "      <td>22848</td>\n",
       "      <td>gene</td>\n",
       "      <td>AAK1</td>\n",
       "      <td>KIAA1048|DKFZp686K16132</td>\n",
       "      <td>9606</td>\n",
       "      <td>Homo sapiens</td>\n",
       "      <td>0</td>\n",
       "      <td>-</td>\n",
       "      <td>-</td>\n",
       "      <td>-</td>\n",
       "      <td>-</td>\n",
       "      <td>NO</td>\n",
       "      <td>BioGRID ORCS</td>\n",
       "    </tr>\n",
       "    <tr>\n",
       "      <th>3</th>\n",
       "      <td>1</td>\n",
       "      <td>26574</td>\n",
       "      <td>gene</td>\n",
       "      <td>AATF</td>\n",
       "      <td>BFR2|CHE-1|CHE1|DED</td>\n",
       "      <td>9606</td>\n",
       "      <td>Homo sapiens</td>\n",
       "      <td>0.115</td>\n",
       "      <td>-</td>\n",
       "      <td>-</td>\n",
       "      <td>-</td>\n",
       "      <td>-</td>\n",
       "      <td>NO</td>\n",
       "      <td>BioGRID ORCS</td>\n",
       "    </tr>\n",
       "    <tr>\n",
       "      <th>4</th>\n",
       "      <td>1</td>\n",
       "      <td>9625</td>\n",
       "      <td>gene</td>\n",
       "      <td>AATK</td>\n",
       "      <td>AATYK|AATYK1|LMR1|LMTK1|PPP1R77|p35BP|KIAA0641</td>\n",
       "      <td>9606</td>\n",
       "      <td>Homo sapiens</td>\n",
       "      <td>0</td>\n",
       "      <td>-</td>\n",
       "      <td>-</td>\n",
       "      <td>-</td>\n",
       "      <td>-</td>\n",
       "      <td>NO</td>\n",
       "      <td>BioGRID ORCS</td>\n",
       "    </tr>\n",
       "    <tr>\n",
       "      <th>...</th>\n",
       "      <td>...</td>\n",
       "      <td>...</td>\n",
       "      <td>...</td>\n",
       "      <td>...</td>\n",
       "      <td>...</td>\n",
       "      <td>...</td>\n",
       "      <td>...</td>\n",
       "      <td>...</td>\n",
       "      <td>...</td>\n",
       "      <td>...</td>\n",
       "      <td>...</td>\n",
       "      <td>...</td>\n",
       "      <td>...</td>\n",
       "      <td>...</td>\n",
       "    </tr>\n",
       "    <tr>\n",
       "      <th>8490166</th>\n",
       "      <td>686</td>\n",
       "      <td>100287478</td>\n",
       "      <td>gene</td>\n",
       "      <td>USP17L21</td>\n",
       "      <td>-</td>\n",
       "      <td>9606</td>\n",
       "      <td>Homo sapiens</td>\n",
       "      <td>114</td>\n",
       "      <td>-</td>\n",
       "      <td>-</td>\n",
       "      <td>-</td>\n",
       "      <td>-</td>\n",
       "      <td>YES</td>\n",
       "      <td>BioGRID ORCS</td>\n",
       "    </tr>\n",
       "    <tr>\n",
       "      <th>8490167</th>\n",
       "      <td>686</td>\n",
       "      <td>6845</td>\n",
       "      <td>gene</td>\n",
       "      <td>VAMP7</td>\n",
       "      <td>SYBL1|TI-VAMP|TIVAMP|VAMP-7</td>\n",
       "      <td>9606</td>\n",
       "      <td>Homo sapiens</td>\n",
       "      <td>13</td>\n",
       "      <td>-</td>\n",
       "      <td>-</td>\n",
       "      <td>-</td>\n",
       "      <td>-</td>\n",
       "      <td>YES</td>\n",
       "      <td>BioGRID ORCS</td>\n",
       "    </tr>\n",
       "    <tr>\n",
       "      <th>8490168</th>\n",
       "      <td>686</td>\n",
       "      <td>55062</td>\n",
       "      <td>gene</td>\n",
       "      <td>WIPI1</td>\n",
       "      <td>ATG18|ATG18A|WIPI49|FLJ10055</td>\n",
       "      <td>9606</td>\n",
       "      <td>Homo sapiens</td>\n",
       "      <td>25</td>\n",
       "      <td>-</td>\n",
       "      <td>-</td>\n",
       "      <td>-</td>\n",
       "      <td>-</td>\n",
       "      <td>YES</td>\n",
       "      <td>BioGRID ORCS</td>\n",
       "    </tr>\n",
       "    <tr>\n",
       "      <th>8490169</th>\n",
       "      <td>686</td>\n",
       "      <td>653220</td>\n",
       "      <td>gene</td>\n",
       "      <td>XAGE1B</td>\n",
       "      <td>CT12.1|CT12.1A|CT12.1B|CTP9|GAGED2|XAGE-1|XAGE...</td>\n",
       "      <td>9606</td>\n",
       "      <td>Homo sapiens</td>\n",
       "      <td>93</td>\n",
       "      <td>-</td>\n",
       "      <td>-</td>\n",
       "      <td>-</td>\n",
       "      <td>-</td>\n",
       "      <td>YES</td>\n",
       "      <td>BioGRID ORCS</td>\n",
       "    </tr>\n",
       "    <tr>\n",
       "      <th>8490170</th>\n",
       "      <td>686</td>\n",
       "      <td>653067</td>\n",
       "      <td>gene</td>\n",
       "      <td>XAGE1E</td>\n",
       "      <td>CT12.1|CT12.1C|CT12.1D|CT12.1E|CTP9|GAGED2|XAG...</td>\n",
       "      <td>9606</td>\n",
       "      <td>Homo sapiens</td>\n",
       "      <td>91</td>\n",
       "      <td>-</td>\n",
       "      <td>-</td>\n",
       "      <td>-</td>\n",
       "      <td>-</td>\n",
       "      <td>YES</td>\n",
       "      <td>BioGRID ORCS</td>\n",
       "    </tr>\n",
       "  </tbody>\n",
       "</table>\n",
       "<p>8490171 rows × 14 columns</p>\n",
       "</div>"
      ],
      "text/plain": [
       "        SCREEN_ID IDENTIFIER_ID IDENTIFIER_TYPE OFFICIAL_SYMBOL  \\\n",
       "0               1         29974            gene            A1CF   \n",
       "1               1          8086            gene            AAAS   \n",
       "2               1         22848            gene            AAK1   \n",
       "3               1         26574            gene            AATF   \n",
       "4               1          9625            gene            AATK   \n",
       "...           ...           ...             ...             ...   \n",
       "8490166       686     100287478            gene        USP17L21   \n",
       "8490167       686          6845            gene           VAMP7   \n",
       "8490168       686         55062            gene           WIPI1   \n",
       "8490169       686        653220            gene          XAGE1B   \n",
       "8490170       686        653067            gene          XAGE1E   \n",
       "\n",
       "                                                   ALIASES ORGANISM_ID  \\\n",
       "0                            ACF|ACF64|ACF65|APOBEC1CF|ASP        9606   \n",
       "1                AAA|AAASb|ADRACALA|ADRACALIN|ALADIN|GL003        9606   \n",
       "2                                  KIAA1048|DKFZp686K16132        9606   \n",
       "3                                      BFR2|CHE-1|CHE1|DED        9606   \n",
       "4           AATYK|AATYK1|LMR1|LMTK1|PPP1R77|p35BP|KIAA0641        9606   \n",
       "...                                                    ...         ...   \n",
       "8490166                                                  -        9606   \n",
       "8490167                        SYBL1|TI-VAMP|TIVAMP|VAMP-7        9606   \n",
       "8490168                       ATG18|ATG18A|WIPI49|FLJ10055        9606   \n",
       "8490169  CT12.1|CT12.1A|CT12.1B|CTP9|GAGED2|XAGE-1|XAGE...        9606   \n",
       "8490170  CT12.1|CT12.1C|CT12.1D|CT12.1E|CTP9|GAGED2|XAG...        9606   \n",
       "\n",
       "        ORGANISM_OFFICIAL SCORE.1 SCORE.2 SCORE.3 SCORE.4 SCORE.5  HIT  \\\n",
       "0            Homo sapiens       0       -       -       -       -   NO   \n",
       "1            Homo sapiens       0       -       -       -       -   NO   \n",
       "2            Homo sapiens       0       -       -       -       -   NO   \n",
       "3            Homo sapiens   0.115       -       -       -       -   NO   \n",
       "4            Homo sapiens       0       -       -       -       -   NO   \n",
       "...                   ...     ...     ...     ...     ...     ...  ...   \n",
       "8490166      Homo sapiens     114       -       -       -       -  YES   \n",
       "8490167      Homo sapiens      13       -       -       -       -  YES   \n",
       "8490168      Homo sapiens      25       -       -       -       -  YES   \n",
       "8490169      Homo sapiens      93       -       -       -       -  YES   \n",
       "8490170      Homo sapiens      91       -       -       -       -  YES   \n",
       "\n",
       "               SOURCE  \n",
       "0        BioGRID ORCS  \n",
       "1        BioGRID ORCS  \n",
       "2        BioGRID ORCS  \n",
       "3        BioGRID ORCS  \n",
       "4        BioGRID ORCS  \n",
       "...               ...  \n",
       "8490166  BioGRID ORCS  \n",
       "8490167  BioGRID ORCS  \n",
       "8490168  BioGRID ORCS  \n",
       "8490169  BioGRID ORCS  \n",
       "8490170  BioGRID ORCS  \n",
       "\n",
       "[8490171 rows x 14 columns]"
      ]
     },
     "execution_count": 96,
     "metadata": {},
     "output_type": "execute_result"
    }
   ],
   "source": [
    "screens"
   ]
  },
  {
   "cell_type": "markdown",
   "metadata": {},
   "source": [
    "## Visualize these data and give basic summary "
   ]
  },
  {
   "cell_type": "code",
   "execution_count": 9,
   "metadata": {},
   "outputs": [],
   "source": [
    "allGenes=pd.read_pickle('/Users/xinyutang/Desktop/biogridData/DataPreprocessing/allGenes.pkl')\n",
    "screens =pd.read_json ('/Users/xinyutang/Desktop/biogridData/screens.json')"
   ]
  },
  {
   "cell_type": "code",
   "execution_count": 21,
   "metadata": {},
   "outputs": [],
   "source": [
    "screens_selected = screens[['SCREEN_ID','PHENOTYPE','SCREEN_TYPE','NOTES','THROUGHPUT','ENZYME','CELL_LINE','METHODOLOGY','ORGANISM_ID','SIGNIFICANCE_CRITERIA','SIGNIFICANCE_INDICATOR','FULL_SIZE','EXPERIMENTAL_SETUP']]\n",
    "summary_selected = pd.merge(allGenes,screens_selected,on='SCREEN_ID',how='left')\n",
    "summary_selected = summary_selected[['SCREEN_ID','SCREEN_TYPE','IDENTIFIER_ID','OFFICIAL_SYMBOL','PHENOTYPE','NOTES','CELL_LINE','METHODOLOGY','THROUGHPUT','ENZYME','ORGANISM_ID','SCORE.1.RANK','HIT','ALIASES','FULL_SIZE']]"
   ]
  },
  {
   "cell_type": "code",
   "execution_count": 22,
   "metadata": {},
   "outputs": [
    {
     "data": {
      "text/plain": [
       "(8127561, 15)"
      ]
     },
     "execution_count": 22,
     "metadata": {},
     "output_type": "execute_result"
    }
   ],
   "source": [
    "summary_selected.shape"
   ]
  },
  {
   "cell_type": "code",
   "execution_count": 27,
   "metadata": {},
   "outputs": [],
   "source": [
    "summary_selected = summary_selected[['SCREEN_ID','SCREEN_TYPE','IDENTIFIER_ID','OFFICIAL_SYMBOL','PHENOTYPE','NOTES','CELL_LINE','METHODOLOGY','THROUGHPUT','ENZYME','ORGANISM_ID','SCORE.1.RANK','HIT','ALIASES','FULL_SIZE']]\n",
    "summary_selected['Rank'] =  summary_selected['SCORE.1.RANK'].astype(str)+'/'+summary_selected['FULL_SIZE'].astype(str)"
   ]
  },
  {
   "cell_type": "code",
   "execution_count": 31,
   "metadata": {},
   "outputs": [],
   "source": [
    "ATG9A_screen590 = summary_selected[(summary_selected['SCREEN_ID']==590)&(summary_selected['IDENTIFIER_ID']==79065)]"
   ]
  },
  {
   "cell_type": "code",
   "execution_count": 32,
   "metadata": {},
   "outputs": [
    {
     "data": {
      "text/html": [
       "<div>\n",
       "<style scoped>\n",
       "    .dataframe tbody tr th:only-of-type {\n",
       "        vertical-align: middle;\n",
       "    }\n",
       "\n",
       "    .dataframe tbody tr th {\n",
       "        vertical-align: top;\n",
       "    }\n",
       "\n",
       "    .dataframe thead th {\n",
       "        text-align: right;\n",
       "    }\n",
       "</style>\n",
       "<table border=\"1\" class=\"dataframe\">\n",
       "  <thead>\n",
       "    <tr style=\"text-align: right;\">\n",
       "      <th></th>\n",
       "      <th>SCREEN_ID</th>\n",
       "      <th>SCREEN_TYPE</th>\n",
       "      <th>IDENTIFIER_ID</th>\n",
       "      <th>OFFICIAL_SYMBOL</th>\n",
       "      <th>PHENOTYPE</th>\n",
       "      <th>NOTES</th>\n",
       "      <th>CELL_LINE</th>\n",
       "      <th>METHODOLOGY</th>\n",
       "      <th>THROUGHPUT</th>\n",
       "      <th>ENZYME</th>\n",
       "      <th>ORGANISM_ID</th>\n",
       "      <th>SCORE.1.RANK</th>\n",
       "      <th>HIT</th>\n",
       "      <th>ALIASES</th>\n",
       "      <th>FULL_SIZE</th>\n",
       "      <th>Rank</th>\n",
       "    </tr>\n",
       "  </thead>\n",
       "  <tbody>\n",
       "    <tr>\n",
       "      <th>7873424</th>\n",
       "      <td>590</td>\n",
       "      <td>Phenotype Screen</td>\n",
       "      <td>79065</td>\n",
       "      <td>ATG9A</td>\n",
       "      <td>protein/peptide accumulation</td>\n",
       "      <td>targeted mini-pool screen for genes whose depl...</td>\n",
       "      <td>H4 neuroglioma cell</td>\n",
       "      <td>Knockout</td>\n",
       "      <td>High Throughput</td>\n",
       "      <td>CAS9</td>\n",
       "      <td>9606</td>\n",
       "      <td>1.0</td>\n",
       "      <td>YES</td>\n",
       "      <td>APG9L1|MGD3208|mATG9|FLJ22169</td>\n",
       "      <td>1120</td>\n",
       "      <td>1.0/1120</td>\n",
       "    </tr>\n",
       "  </tbody>\n",
       "</table>\n",
       "</div>"
      ],
      "text/plain": [
       "         SCREEN_ID       SCREEN_TYPE  IDENTIFIER_ID OFFICIAL_SYMBOL  \\\n",
       "7873424        590  Phenotype Screen          79065           ATG9A   \n",
       "\n",
       "                            PHENOTYPE  \\\n",
       "7873424  protein/peptide accumulation   \n",
       "\n",
       "                                                     NOTES  \\\n",
       "7873424  targeted mini-pool screen for genes whose depl...   \n",
       "\n",
       "                   CELL_LINE METHODOLOGY       THROUGHPUT ENZYME  ORGANISM_ID  \\\n",
       "7873424  H4 neuroglioma cell    Knockout  High Throughput   CAS9         9606   \n",
       "\n",
       "         SCORE.1.RANK  HIT                        ALIASES  FULL_SIZE      Rank  \n",
       "7873424           1.0  YES  APG9L1|MGD3208|mATG9|FLJ22169       1120  1.0/1120  "
      ]
     },
     "execution_count": 32,
     "metadata": {},
     "output_type": "execute_result"
    }
   ],
   "source": [
    "ATG9A_screen590"
   ]
  },
  {
   "cell_type": "code",
   "execution_count": 30,
   "metadata": {},
   "outputs": [
    {
     "data": {
      "text/plain": [
       "50394"
      ]
     },
     "execution_count": 30,
     "metadata": {},
     "output_type": "execute_result"
    }
   ],
   "source": [
    "summary_selected.IDENTIFIER_ID.nunique()"
   ]
  },
  {
   "cell_type": "code",
   "execution_count": null,
   "metadata": {},
   "outputs": [],
   "source": []
  }
 ],
 "metadata": {
  "kernelspec": {
   "display_name": "Python 3",
   "language": "python",
   "name": "python3"
  },
  "language_info": {
   "codemirror_mode": {
    "name": "ipython",
    "version": 3
   },
   "file_extension": ".py",
   "mimetype": "text/x-python",
   "name": "python",
   "nbconvert_exporter": "python",
   "pygments_lexer": "ipython3",
   "version": "3.8.1"
  },
  "toc": {
   "base_numbering": 1,
   "nav_menu": {},
   "number_sections": true,
   "sideBar": true,
   "skip_h1_title": false,
   "title_cell": "Table of Contents",
   "title_sidebar": "Contents",
   "toc_cell": false,
   "toc_position": {
    "height": "calc(100% - 180px)",
    "left": "10px",
    "top": "150px",
    "width": "321.594px"
   },
   "toc_section_display": true,
   "toc_window_display": true
  },
  "varInspector": {
   "cols": {
    "lenName": 16,
    "lenType": 16,
    "lenVar": 40
   },
   "kernels_config": {
    "python": {
     "delete_cmd_postfix": "",
     "delete_cmd_prefix": "del ",
     "library": "var_list.py",
     "varRefreshCmd": "print(var_dic_list())"
    },
    "r": {
     "delete_cmd_postfix": ") ",
     "delete_cmd_prefix": "rm(",
     "library": "var_list.r",
     "varRefreshCmd": "cat(var_dic_list()) "
    }
   },
   "types_to_exclude": [
    "module",
    "function",
    "builtin_function_or_method",
    "instance",
    "_Feature"
   ],
   "window_display": false
  }
 },
 "nbformat": 4,
 "nbformat_minor": 4
}
